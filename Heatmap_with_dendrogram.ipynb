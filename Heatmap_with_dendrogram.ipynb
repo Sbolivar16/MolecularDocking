{
  "nbformat": 4,
  "nbformat_minor": 0,
  "metadata": {
    "colab": {
      "provenance": [],
      "authorship_tag": "ABX9TyONrE4Voe+4v4lfHJFaQp9x",
      "include_colab_link": true
    },
    "kernelspec": {
      "name": "python3",
      "display_name": "Python 3"
    },
    "language_info": {
      "name": "python"
    }
  },
  "cells": [
    {
      "cell_type": "markdown",
      "metadata": {
        "id": "view-in-github",
        "colab_type": "text"
      },
      "source": [
        "<a href=\"https://colab.research.google.com/github/Sbolivar16/MolecularDocking/blob/main/Heatmap_with_dendrogram.ipynb\" target=\"_parent\"><img src=\"https://colab.research.google.com/assets/colab-badge.svg\" alt=\"Open In Colab\"/></a>"
      ]
    },
    {
      "cell_type": "markdown",
      "source": [
        "## 🧬 **Ligand–Residue Interaction Heatmaps: A Visual Toolkit for Molecular Docking Analysis**\n",
        "\n",
        "<div align=\"center\">\n",
        "\n",
        "🧪 **Santiago Bolívar A.**  \n",
        "**Qco., M.Sc., Ph.D.**  \n",
        "📍 *National University of Rosario, Argentina*  \n",
        "🔗 [GitHub Profile](https://github.com/Sbolivar16)\n",
        "\n",
        "</div>\n",
        "\n",
        "---\n",
        "\n",
        "This Jupyter Notebook provides a streamlined pipeline for **analyzing and visualizing ligand–residue interaction patterns** derived from **molecular docking simulations**. The goal is to assist researchers in identifying key residues involved in binding and to **cluster ligands** based on their interaction profiles using advanced data science techniques.\n",
        "\n",
        "---\n",
        "\n",
        "### 🔍 What Does This Notebook Do?\n",
        "\n",
        "- ✅ **Loads ligand–residue interaction data** (from `.csv` files generated from docking tools).\n",
        "- ✅ **Assigns numeric codes** to each type of molecular interaction (e.g., hydrogen bonds, hydrophobic contacts).\n",
        "- ✅ **Constructs interaction matrices** for all ligand–residue pairs.\n",
        "- ✅ **Generates heatmaps and dendrograms** to cluster ligands and residues by similarity of interactions.\n",
        "- ✅ **Customizes visual outputs** with descriptive color legends and dendrograms for deeper structural insights.\n",
        "\n",
        "---\n",
        "\n",
        "### 🧪 Why Is This Important for Molecular Docking?\n",
        "\n",
        "In molecular docking workflows, large sets of ligands are often screened against a protein target. However, once docking scores are available, understanding **how** and **where** these ligands interact is often more informative than the raw energy score. This notebook allows you to:\n",
        "\n",
        "- 🎯 Detect **key binding residues** across ligand sets.\n",
        "- 🔎 Group ligands based on **interaction similarity**, which can reflect **pharmacophoric or chemical pattern** similarities.\n",
        "- 🧠 Identify clusters of compounds with **common binding modes**.\n",
        "- 📊 Generate **publication-ready visualizations** for manuscripts and presentations.\n",
        "\n",
        "---\n",
        "\n",
        "### 📊 Why Use Heatmaps + Dendrograms?\n",
        "\n",
        "Traditional docking outputs (e.g., binding scores) fail to convey **structural interaction context**. In contrast:\n",
        "\n",
        "- **Heatmaps** reveal patterns across many ligands and residues at a glance.\n",
        "- **Dendrograms** (hierarchical clustering trees) group similar ligands or residues based on interaction fingerprints.\n",
        "- The combination of both enables **data-driven decision making** in ligand prioritization.\n",
        "\n",
        "---\n",
        "\n",
        "### 🧰 Technologies Used\n",
        "\n",
        "- 🐼 **Pandas** – Data manipulation  \n",
        "- 🌈 **Seaborn & Matplotlib** – Advanced plotting  \n",
        "- 🧬 **NumPy** – Matrix computation  \n",
        "- 🧱 **Custom colormaps & legends** – For visual clarity and interpretability  \n",
        "\n",
        "---\n",
        "\n",
        "### 📌 Intended Audience\n",
        "\n",
        "This notebook is ideal for:\n",
        "\n",
        "- Computational chemists  \n",
        "- Molecular docking specialists  \n",
        "- Structural bioinformaticians  \n",
        "- Drug discovery teams performing virtual screening  \n",
        "\n",
        "---\n",
        "\n",
        "> *Use this tool to bridge the gap between docking output and structural interpretation, enhancing your understanding of protein–ligand interactions.*\n"
      ],
      "metadata": {
        "id": "Nt5pdtfoZtx7"
      }
    },
    {
      "cell_type": "code",
      "source": [
        "# we install the necessary libraries\n",
        "import pandas as pd\n",
        "import matplotlib.pyplot as plt\n",
        "import numpy as np\n"
      ],
      "metadata": {
        "id": "oFNdXJG2A_R0"
      },
      "execution_count": 23,
      "outputs": []
    },
    {
      "cell_type": "markdown",
      "source": [
        " ⚠️ Keep in mind that the example we used to create this notebook contains the following structure. Therefore, your working file must have the same structure in order for it to work. It must be in `.csv` format.\n",
        "\n",
        "\n",
        "| Ligand | Residue | Interaction     | Scoring_Vina |\n",
        "|--------|---------|------------------|--------------|\n",
        "| Lig1   | TYR17   | H-bond           | -8.5         |\n",
        "| Lig1   | ASP267  | Van der Waals    | -8.5         |\n",
        "| Lig1   | GLU376  | Hydrophobic      | -8.5         |\n",
        "| Lig2   | TYR17   | Van der Waals    | -9.1         |\n",
        "| Lig2   | LEU432  | Salt bridge      | -9.1         |\n",
        "\n",
        "\n"
      ],
      "metadata": {
        "id": "PyumEJA-X5U4"
      }
    },
    {
      "cell_type": "code",
      "source": [
        "# Change the name if your file is different\n",
        "data = pd.read_csv('Results.csv')\n",
        "print(data.head())\n"
      ],
      "metadata": {
        "colab": {
          "base_uri": "https://localhost:8080/"
        },
        "id": "noUqbktKBBd-",
        "outputId": "4ca3cf6f-6a1e-41ef-e87b-5e69969bd503"
      },
      "execution_count": 26,
      "outputs": [
        {
          "output_type": "stream",
          "name": "stdout",
          "text": [
            "  Ligand Residue    Interaction  Scoring_Vina\n",
            "0   Lig1   TYR17         H-bond          -8.5\n",
            "1   Lig1  ASP267  Van der Waals          -8.5\n",
            "2   Lig1  GLU376    Hydrophobic          -8.5\n",
            "3   Lig2   TYR17  Van der Waals          -9.1\n",
            "4   Lig2  LEU432    Salt bridge          -9.1\n"
          ]
        }
      ]
    },
    {
      "cell_type": "code",
      "source": [
        "# Ordered lists of ligands and residues\n",
        "residues = sorted(data['Residue'].unique())\n",
        "ligands = sorted(data['Ligand'].unique())\n",
        "\n",
        "# Mapping of interaction types to numbers\n",
        "interaction_map = {\"H-bond\": 1, \"Hydrophobic\": 2, \"Van der Waals\": 3, \"Salt bridge\": 4}\n",
        "\n",
        "# Interaction matrix\n",
        "interaction_matrix = np.zeros((len(ligands), len(residues)))\n",
        "\n",
        "for i, lig in enumerate(ligands):\n",
        "    for j, res in enumerate(residues):\n",
        "        inter = data[(data['Ligand'] == lig) & (data['Residue'] == res)]['Interaction']\n",
        "        if not inter.empty:\n",
        "            interaction_matrix[i, j] = interaction_map.get(inter.values[0], 0)\n",
        "\n"
      ],
      "metadata": {
        "id": "fKzcfea-BC1U"
      },
      "execution_count": 27,
      "outputs": []
    },
    {
      "cell_type": "code",
      "source": [
        "plt.figure(figsize=(14, 6))\n",
        "cmap = plt.cm.get_cmap('viridis', 5)  # 5 colors (including 0)\n",
        "img = plt.imshow(interaction_matrix, aspect='auto', cmap=cmap, vmin=0, vmax=4)\n",
        "\n",
        "# Customized color bar\n",
        "cbar = plt.colorbar(img, ticks=[0, 1, 2, 3, 4])\n",
        "cbar.ax.set_yticklabels(['Not formed', 'H-bond', 'Hydrophobic', 'Van der Waals', 'Salt bridge'])\n",
        "\n",
        "plt.yticks(range(len(ligands)), ligands)\n",
        "plt.xticks(range(len(residues)), residues, rotation=90)\n",
        "plt.title('Ligand-Residue Interactions')\n",
        "plt.xlabel('Residue')\n",
        "plt.ylabel('Ligand')\n",
        "plt.tight_layout()\n",
        "plt.show()\n",
        "\n"
      ],
      "metadata": {
        "colab": {
          "base_uri": "https://localhost:8080/",
          "height": 649
        },
        "id": "X9H2WauCBE89",
        "outputId": "de314580-cf4d-455c-bb25-80fc9a302815"
      },
      "execution_count": 28,
      "outputs": [
        {
          "output_type": "stream",
          "name": "stderr",
          "text": [
            "<ipython-input-28-ce3ae31d688c>:2: MatplotlibDeprecationWarning: The get_cmap function was deprecated in Matplotlib 3.7 and will be removed in 3.11. Use ``matplotlib.colormaps[name]`` or ``matplotlib.colormaps.get_cmap()`` or ``pyplot.get_cmap()`` instead.\n",
            "  cmap = plt.cm.get_cmap('viridis', 5)  # 5 colors (including 0)\n"
          ]
        },
        {
          "output_type": "display_data",
          "data": {
            "text/plain": [
              "<Figure size 1400x600 with 2 Axes>"
            ],
            "image/png": "[encoded data removed]"
          },
          "metadata": {}
        }
      ]
    },
    {
      "cell_type": "code",
      "source": [
        "import pandas as pd\n",
        "import seaborn as sns\n",
        "import matplotlib.pyplot as plt\n",
        "import numpy as np\n",
        "from matplotlib.colors import ListedColormap\n",
        "from mpl_toolkits.axes_grid1 import make_axes_locatable\n",
        "\n",
        "# Load the data\n",
        "data = pd.read_csv('Results.csv')  # Asegúrate que el archivo se llame así o cámbialo\n",
        "\n",
        "# Map interactions to numbers\n",
        "interaction_map = {\n",
        "    \"Not formed\": 0,\n",
        "    \"Hydrophobic\": 1,\n",
        "    \"H-bond\": 2,\n",
        "    \"Van der Waals\": 3,\n",
        "    \"Salt bridge\": 4\n",
        "}\n",
        "data['Interaction_num'] = data['Interaction'].map(interaction_map)\n",
        "\n",
        "# Create the pivot matrix\n",
        "matrix = data.pivot(index='Ligand', columns='Residue', values='Interaction_num')\n",
        "clean_matrix = matrix.fillna(0)\n",
        "\n",
        "# Remove columns and rows with zero variance\n",
        "clean_matrix = clean_matrix.loc[:, clean_matrix.std() != 0]\n",
        "clean_matrix = clean_matrix.loc[clean_matrix.std(axis=1) != 0, :]\n",
        "\n",
        "# Custom colors\n",
        "cmap = ListedColormap(['#d3d3d3', '#3b174b', '#2ba36a', '#f1c40f', '#e74c3c'])\n",
        "interaction_names = ['Not formed', 'Hydrophobic', 'H-bond', 'Van der Waals', 'Salt bridge']\n",
        "\n",
        "# Create the clustermap without showing the color bar automatically\n",
        "g = sns.clustermap(\n",
        "    clean_matrix,\n",
        "    cmap=cmap,\n",
        "    linewidths=0.5,\n",
        "    figsize=(12, 6),\n",
        "    metric='euclidean',\n",
        "    method='ward',\n",
        "    dendrogram_ratio=(.1, .2),\n",
        "    cbar_pos=None,\n",
        "    xticklabels=True,\n",
        "    yticklabels=True\n",
        ")\n",
        "\n",
        "# Add color bar manually\n",
        "divider = make_axes_locatable(g.ax_heatmap)\n",
        "cax = divider.append_axes(\"right\", size=\"5%\", pad=0.1)\n",
        "\n",
        "norm = plt.Normalize(vmin=0, vmax=4)\n",
        "cb = plt.colorbar(\n",
        "    plt.cm.ScalarMappable(norm=norm, cmap=cmap),\n",
        "    cax=cax,\n",
        "    ticks=[0, 1, 2, 3, 4]\n",
        ")\n",
        "cb.set_ticklabels(interaction_names)\n",
        "cb.ax.set_ylabel('Interaction type', rotation=270, labelpad=15, weight='bold')\n",
        "\n",
        "for tick in cb.ax.get_yticklabels():\n",
        "    tick.set_fontweight('bold')\n",
        "\n",
        "# General title\n",
        "g.fig.subplots_adjust(top=0.80)\n",
        "g.fig.suptitle(\n",
        "    'Ligand–Residue Interactions Ordered by Residue Number',\n",
        "    fontsize=16,\n",
        "    fontweight='bold',\n",
        "    y=0.98\n",
        ")\n",
        "\n",
        "plt.show()\n"
      ],
      "metadata": {
        "colab": {
          "base_uri": "https://localhost:8080/",
          "height": 610
        },
        "id": "8xQwQZ_xZcEj",
        "outputId": "b757d97a-bdc1-40df-dfc5-88a7a4e2ccd1"
      },
      "execution_count": 31,
      "outputs": [
        {
          "output_type": "display_data",
          "data": {
            "text/plain": [
              "<Figure size 1200x600 with 4 Axes>"
            ],
            "image/png": "[encoded data removed]"
          },
          "metadata": {}
        }
      ]
    },
    {
      "cell_type": "markdown",
      "source": [
        "### Interpretation of the Ligand–Residue Interaction Heatmap\n",
        "\n",
        "The figure displays a **hierarchical heatmap** that visualizes the types of interactions formed between various ligands and specific residues within a protein’s binding site.\n",
        "\n",
        "#### Components of the plot:\n",
        "\n",
        "- **Rows**: Represent the different *ligands* analyzed (e.g., Lig1, Lig2).\n",
        "- **Columns**: Correspond to *residues* within the binding pocket, identified by their name and residue number.\n",
        "- **Colors**: Each color encodes a specific type of molecular interaction:\n",
        "  - 🔴 **Salt bridge**\n",
        "  - 🟡 **Van der Waals**\n",
        "  - 🟢 **H-bond** (hydrogen bond)\n",
        "  - 🟣 **Hydrophobic** interaction\n",
        "  - ⚪ **Not formed** (no interaction detected)\n",
        "\n",
        "#### How to interpret the heatmap:\n",
        "\n",
        "- The matrix indicates **which type of interaction**, if any, each ligand forms with each residue.\n",
        "- **Gray cells** indicate that no interaction was formed with that residue.\n",
        "- The **top dendrogram** groups residues based on similarity in their interaction patterns across ligands, potentially highlighting functionally related regions of the binding site.\n",
        "- Comparing **ligand rows** helps identify differences in interaction profiles, which may explain variations in binding affinity or biological activity.\n",
        "\n",
        "#### Application:\n",
        "\n",
        "This visualization can help prioritize ligands that form key interactions (e.g., hydrogen bonds or salt bridges) with critical binding site residues. It is also useful as a foundation for SAR/QSAR modeling or rational ligand design.\n",
        "\n"
      ],
      "metadata": {
        "id": "DD24G701FwiV"
      }
    },
    {
      "cell_type": "markdown",
      "source": [
        "### How to adapt the code to other types of interactions?\n",
        "\n",
        "This code generates a hierarchical heatmap representing the types of interactions between ligands and residues of a protein. It is initially designed to handle five types of interactions:\n",
        "\n",
        "- `Not formed`  \n",
        "- `Hydrophobic`  \n",
        "- `H-bond`  \n",
        "- `Van der Waals`  \n",
        "- `Salt bridge`  \n",
        "\n",
        "If your CSV file contains **other types of interactions**, you should follow these steps to adapt the code.\n",
        "\n",
        "---\n",
        "\n",
        "🧩 **Step 1: Identify the new interaction types**  \n",
        "\n",
        "You can quickly check what types of interactions are in your file using:\n",
        "\n",
        "```python\n",
        "print(data['Interacción'].unique())\n",
        "```\n",
        "\n",
        "This will return all unique names present in the \"Interacción\" column, for example:\n",
        "\n",
        "```python\n",
        "['H-bond', 'Van der Waals', 'π-π stacking', 'Hydrophobic', 'Salt bridge']\n",
        "```\n",
        "\n",
        "### 🛠 Step 2: Modify the interaccion_map dictionary\n",
        "\n",
        "Add the new types to the dictionary, assigning a distinct integer to each one:\n",
        "\n",
        "```python\n",
        "interaccion_map = {\n",
        "    \"Not formed\": 0,\n",
        "    \"Hydrophobic\": 1,\n",
        "    \"H-bond\": 2,\n",
        "    \"Van der Waals\": 3,\n",
        "    \"Salt bridge\": 4,\n",
        "    \"π-π stacking\": 5,\n",
        "    \"Halogen bond\": 6\n",
        "}\n",
        "```\n",
        "### 🎨 Step 3: Update the color palette and legend bar\n",
        "\n",
        "Make sure to extend the color map (cmap) and the list of interaction names:\n",
        "\n",
        "```python\n",
        "from matplotlib.colors import ListedColormap\n",
        "\n",
        "cmap = ListedColormap([\n",
        "    '#d3d3d3',  # Not formed\n",
        "    '#3b174b',  # Hydrophobic\n",
        "    '#2ba36a',  # H-bond\n",
        "    '#f1c40f',  # Van der Waals\n",
        "    '#e74c3c',  # Salt bridge\n",
        "    '#8e44ad',  # π-π stacking\n",
        "    '#3498db'   # Halogen bond\n",
        "])\n",
        "\n",
        "nombres_interacciones = [\n",
        "    'Not formed', 'Hydrophobic', 'H-bond',\n",
        "    'Van der Waals', 'Salt bridge',\n",
        "    'π-π stacking', 'Halogen bond'\n",
        "]\n",
        "```\n",
        "\n",
        "Then modify the normalization and ticks of the colorbar:\n",
        "\n",
        "```python\n",
        "norm = plt.Normalize(vmin=0, vmax=6)\n",
        "cb = plt.colorbar(\n",
        "    plt.cm.ScalarMappable(norm=norm, cmap=cmap),\n",
        "    cax=cax,\n",
        "    ticks=list(range(7))\n",
        ")\n",
        "cb.set_ticklabels(nombres_interacciones)\n",
        "```\n",
        "\n",
        "---\n",
        "\n",
        "### ✅ Final Recommendation\n",
        "\n",
        "Make sure that:\n",
        "\n",
        "The number of elements in interaccion_map, cmap, and nombres_interacciones matches.\n",
        "\n",
        "Each interaction type has a unique and readable color.\n",
        "\n",
        "There are no typographical errors in the names from the CSV and the dictionary.\n",
        "\n",
        "This will ensure a correct and useful visualization of your interaction data."
      ],
      "metadata": {
        "id": "EPnL9EsWUlxc"
      }
    }
  ]
}